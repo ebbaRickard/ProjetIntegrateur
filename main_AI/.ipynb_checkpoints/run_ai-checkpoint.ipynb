{
 "cells": [
  {
   "cell_type": "code",
   "execution_count": 1,
   "metadata": {},
   "outputs": [
    {
     "ename": "TabError",
     "evalue": "inconsistent use of tabs and spaces in indentation (mainAI.py, line 321)",
     "output_type": "error",
     "traceback": [
      "\u001b[0;36m  File \u001b[0;32m\"/home/gonzalvez/Bureau/git_integrateur/ProjetIntegrateur/main_AI/mainAI.py\"\u001b[0;36m, line \u001b[0;32m321\u001b[0m\n\u001b[0;31m    return(self.nb_cards-nb_images_remaining)\u001b[0m\n\u001b[0m                                             ^\u001b[0m\n\u001b[0;31mTabError\u001b[0m\u001b[0;31m:\u001b[0m inconsistent use of tabs and spaces in indentation\n"
     ]
    }
   ],
   "source": [
    "import warnings\n",
    "warnings.filterwarnings('ignore')\n",
    "import mainAI\n",
    "\n",
    "score = 0\n",
    "for i in range(10):\n",
    "    ai  = mainAI.Main_AI(20,verbose=False)\n",
    "    nb_image_classified = ai.run()\n",
    "    score+=nb_image_classified\n",
    "    \n",
    "print(score/10)"
   ]
  },
  {
   "cell_type": "code",
   "execution_count": null,
   "metadata": {},
   "outputs": [],
   "source": []
  }
 ],
 "metadata": {
  "kernelspec": {
   "display_name": "Python 3",
   "language": "python",
   "name": "python3"
  },
  "language_info": {
   "codemirror_mode": {
    "name": "ipython",
    "version": 3
   },
   "file_extension": ".py",
   "mimetype": "text/x-python",
   "name": "python",
   "nbconvert_exporter": "python",
   "pygments_lexer": "ipython3",
   "version": "3.6.9"
  }
 },
 "nbformat": 4,
 "nbformat_minor": 2
}
