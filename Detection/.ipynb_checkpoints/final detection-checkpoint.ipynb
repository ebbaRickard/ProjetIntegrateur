{
 "cells": [
  {
   "cell_type": "code",
   "execution_count": 16,
   "id": "9381db12",
   "metadata": {},
   "outputs": [],
   "source": [
    "import numpy as np\n",
    "from numpy import asarray\n",
    "from PIL import Image\n",
    "import time"
   ]
  },
  {
   "cell_type": "code",
   "execution_count": 17,
   "id": "97eda747",
   "metadata": {},
   "outputs": [],
   "source": [
    "def segmentation(board):\n",
    "    \n",
    "    BORDER_SIZE = 3\n",
    "    card_shape = (150,150)\n",
    "    board = np.array(board)\n",
    "    cards = []\n",
    "\n",
    "    vector = np.array([0 for i in range(card_shape[0] + 2*BORDER_SIZE)], dtype=float)\n",
    "    vector[0:BORDER_SIZE] = 1/(2*BORDER_SIZE)\n",
    "    vector[-BORDER_SIZE:] = 1/(2*BORDER_SIZE)\n",
    "    \n",
    "    img_board = Image.fromarray(np.array(board))\n",
    "    grayscale_board = np.array(img_board.convert('L'))\n",
    "    means = []\n",
    "    rows = []\n",
    "    \n",
    "    for column in range(0,board.shape[0] - card_shape[0] - 2*BORDER_SIZE):\n",
    "        \n",
    "        row = 0\n",
    "        while row < board.shape[1] - card_shape[1] - 2*BORDER_SIZE:\n",
    "            \n",
    "            subArray = grayscale_board[column:column+card_shape[0]+ 2*BORDER_SIZE,row:row+card_shape[1]+ 2*BORDER_SIZE]\n",
    "            \n",
    "            mean = np.average((np.dot(vector,subArray)+np.dot(subArray,vector))/2)\n",
    "            means.append(mean)\n",
    "            rows.append(row)\n",
    "            \n",
    "            if mean <=20:\n",
    "                cards.append(board[column + BORDER_SIZE:column + BORDER_SIZE + card_shape[0],\n",
    "                                      row + BORDER_SIZE:row + BORDER_SIZE + card_shape[1]])\n",
    "                row += card_shape[1] + 2*BORDER_SIZE - 1\n",
    "            else:\n",
    "                row +=1\n",
    "    return cards,rows"
   ]
  },
  {
   "cell_type": "code",
   "execution_count": 18,
   "id": "9df0b4b9",
   "metadata": {},
   "outputs": [],
   "source": [
    "def applyThreshold(image1,threshold):\n",
    "    formatted_card = np.copy(image1)\n",
    "    for x,column in enumerate(image1):\n",
    "        for y,pixel in enumerate(column):\n",
    "            formatted_card[x,y] = 0 if pixel < threshold else 255\n",
    "    return formatted_card"
   ]
  },
  {
   "cell_type": "code",
   "execution_count": 19,
   "id": "20c02c18",
   "metadata": {},
   "outputs": [],
   "source": [
    "def imageComparison(image1, image2):\n",
    "    \n",
    "    img1 = Image.fromarray(np.array(image1))\n",
    "    grayscale_image1 = np.array(img1.convert('L'))\n",
    "    #grayscale_image1 = applyThreshold(grayscale_image1,128)\n",
    "    \n",
    "    img2 = Image.fromarray(np.array(image2))\n",
    "    grayscale_image2 = np.array(img2.convert('L'))\n",
    "    #grayscale_image2 = applyThreshold(grayscale_image2,128)\n",
    "    \n",
    "    average_distance = np.mean(np.square(np.absolute(grayscale_image1 - grayscale_image2)))\n",
    "    \n",
    "    print(average_distance)\n",
    "    \n",
    "    return average_distance < 20"
   ]
  },
  {
   "cell_type": "code",
   "execution_count": 20,
   "id": "0fb3c966",
   "metadata": {},
   "outputs": [],
   "source": [
    "def detection(board):\n",
    "    background = Image.open(\"background.png\")\n",
    "    arrayBackground = asarray(background)\n",
    "    \n",
    "    cards,rows = segmentation(board)\n",
    "    \n",
    "    return [card for card in cards if not imageComparison(background,card)],rows"
   ]
  },
  {
   "cell_type": "code",
   "execution_count": 21,
   "id": "cf052d92",
   "metadata": {},
   "outputs": [
    {
     "name": "stdout",
     "output_type": "stream",
     "text": [
      "107.43991111111112\n",
      "105.89075555555556\n",
      "0.0\n",
      "7.449422222222222\n",
      "116.0764\n",
      "5.128844444444445\n",
      "7.3252\n",
      "6.7844444444444445\n",
      "107.05906666666667\n",
      "--- 6.407442331314087 seconds ---\n"
     ]
    }
   ],
   "source": [
    "image = Image.open('board.jpg')\n",
    "start_time = time.time()\n",
    "faceup,rows = detection(image)\n",
    "print(\"--- %s seconds ---\" % (time.time() - start_time))"
   ]
  },
  {
   "cell_type": "code",
   "execution_count": 22,
   "id": "a98229d8",
   "metadata": {},
   "outputs": [
    {
     "name": "stdout",
     "output_type": "stream",
     "text": [
      "4 cards face up\n"
     ]
    }
   ],
   "source": [
    "print(str(len(faceup)) + \" cards face up\")\n",
    "for card in faceup:\n",
    "    img = Image.fromarray(np.array(card))\n",
    "    img.show()"
   ]
  },
  {
   "cell_type": "code",
   "execution_count": 24,
   "id": "6716528d",
   "metadata": {},
   "outputs": [
    {
     "data": {
      "image/png": "[encoded data removed]",
      "text/plain": [
       "<Figure size 432x288 with 1 Axes>"
      ]
     },
     "metadata": {
      "needs_background": "light"
     },
     "output_type": "display_data"
    }
   ],
   "source": [
    "import matplotlib.pyplot as plt\n",
    "plt.plot(rows[0:100])\n",
    "plt.show()"
   ]
  },
  {
   "cell_type": "code",
   "execution_count": null,
   "id": "460bd953",
   "metadata": {},
   "outputs": [],
   "source": []
  }
 ],
 "metadata": {
  "kernelspec": {
   "display_name": "Python 3 (ipykernel)",
   "language": "python",
   "name": "python3"
  },
  "language_info": {
   "codemirror_mode": {
    "name": "ipython",
    "version": 3
   },
   "file_extension": ".py",
   "mimetype": "text/x-python",
   "name": "python",
   "nbconvert_exporter": "python",
   "pygments_lexer": "ipython3",
   "version": "3.9.7"
  }
 },
 "nbformat": 4,
 "nbformat_minor": 5
}
