{
 "cells": [
  {
   "cell_type": "code",
   "execution_count": 194,
   "metadata": {},
   "outputs": [],
   "source": [
    "import numpy as np\n",
    "from numpy import asarray\n",
    "from PIL import Image"
   ]
  },
  {
   "cell_type": "code",
   "execution_count": 5,
   "metadata": {},
   "outputs": [],
   "source": [
    "def compareCard_deprecated(subArray, COLOR):\n",
    "    sum = 0\n",
    "    for column in range(subArray.shape()[0]):\n",
    "        for row in range(subArray.shape()[1]):\n",
    "            if subArray[column,row] == COLOR:\n",
    "                sum +=1\n",
    "    result = sum/ ( subArray.shape()[0]*subArray.shape()[1] )\n",
    "    return result"
   ]
  },
  {
   "cell_type": "code",
   "execution_count": 6,
   "metadata": {},
   "outputs": [],
   "source": [
    "def detection_deprecated(image, background_color, backside_color):\n",
    "\n",
    "    BACKGROUND_COLOR = [253,1,255]\n",
    "    BACKSIDE_COLOR = backside_color\n",
    "\n",
    "    card_shape = (32,32)\n",
    "    \n",
    "    card_list = []\n",
    "\n",
    "    for column in range(image.shape()[0] - card_shape[0]):\n",
    "        for row in range(image.shape()[1] - card_shape[1]):\n",
    "            subArray = image[column:column+card_shape[0], row:row+card_shape[1]]\n",
    "            if compareCard(subArray,BACKGROUND_COLOR) == 0:\n",
    "                card_list.append(subArray)\n",
    "    \n",
    "    for card in card_list:\n",
    "        if compareCard(card,BACKSIDE_COLOR) == 0:\n",
    "            return card"
   ]
  },
  {
   "cell_type": "code",
   "execution_count": 7,
   "metadata": {},
   "outputs": [
    {
     "name": "stdout",
     "output_type": "stream",
     "text": [
      "JPEG\n",
      "(508, 508)\n",
      "RGB\n"
     ]
    }
   ],
   "source": [
    "image = Image.open('board.jpg')\n",
    "print(image.format)\n",
    "print(image.size)\n",
    "print(image.mode)\n",
    "\n",
    "arrayImage = asarray(image)\n",
    "\n",
    "BACKGROUND_COLOR = [253,1,255]"
   ]
  },
  {
   "cell_type": "code",
   "execution_count": 21,
   "metadata": {},
   "outputs": [
    {
     "data": {
      "text/plain": [
       "array([245,   7, 240], dtype=uint8)"
      ]
     },
     "execution_count": 21,
     "metadata": {},
     "output_type": "execute_result"
    }
   ],
   "source": [
    "arrayImage[8,3]"
   ]
  },
  {
   "cell_type": "code",
   "execution_count": 66,
   "metadata": {},
   "outputs": [
    {
     "name": "stdout",
     "output_type": "stream",
     "text": [
      "[[249.8735 249.8735 247.5776 ... 250.9919 251.6685 250.2665]\n",
      " [247.0695 251.9765 252.893  ... 254.4045 249.5655 251.7825]\n",
      " [252.306  244.8768 230.7023 ... 245.7734 251.1059 253.1057]\n",
      " ...\n",
      " [252.8822 231.0245 203.8434 ... 228.3435 252.893  247.8935]\n",
      " [252.2215 244.0159 231.7085 ... 244.0249 252.0105 250.6085]\n",
      " [250.1185 250.8195 251.1104 ... 253.024  249.9075 251.3095]]\n",
      "<class 'PIL.Image.Image'>\n",
      "<PIL.Image.Image image mode=F size=336x336 at 0x1B8E4FEA280>\n"
     ]
    },
    {
     "data": {
      "text/plain": [
       "'img.convert(\"rgb\")\\nimg.save(\\'my.jpg\\')\\nimg.show()'"
      ]
     },
     "execution_count": 66,
     "metadata": {},
     "output_type": "execute_result"
    }
   ],
   "source": [
    "image = Image.open('MemoryGame\\\\model\\\\background.png')\n",
    "\n",
    "arrayImage = asarray(image)\n",
    "\n",
    "rgb_weights = [0.2989, 0.5870, 0.1140]   #Pourquoi ces valeurs ? et pourquoi pas ? (stackoverflow), pas le temps d'analyser pourquoi\n",
    "grayscale_card = np.dot(arrayImage[...,:3], rgb_weights)\n",
    "\n",
    "print(grayscale_card)\n",
    "\n",
    "from PIL import Image\n",
    "import numpy as np\n",
    "\n",
    "w, h = 512, 512\n",
    "img = Image.fromarray(np.uint8(mat * 255), 'L')\n",
    "img = Image.fromarray(grayscale_card)\n",
    "print(type(img))\n",
    "print(img)\n",
    "\"\"\"img.convert(\"rgb\")\n",
    "img.save('my.jpg')\n",
    "img.show()\"\"\""
   ]
  },
  {
   "cell_type": "code",
   "execution_count": 181,
   "metadata": {},
   "outputs": [],
   "source": [
    "def filter_image(image):\n",
    "    #on commence par convertir l'image en gris\n",
    "    #on utilise le produit d'une matrice par un vecteur pour transformer le vecteur dim(3) des 3 RGB\n",
    "    #en vecteur dim(1)\n",
    "    \n",
    "    #Pourquoi ces valeurs ? et pourquoi pas ? (stackoverflow), pas le temps d'analyser pourquoi  \n",
    "    \"\"\"image = Image.fromarray(image.astype(np.uint8))\n",
    "    grayscale_image = np.array(image.convert('L'))\n",
    "    print(img)\n",
    "    grayscale_image = asarray(img)\"\"\"\n",
    "    #rgb_weights = np.asarray([0.2989, 0.5870, 0.1140])\n",
    "    #grayscale_image = np.dot(image[...,:3], rgb_weights)\n",
    "\n",
    "    #on applique un threshold pour avoir uniquement 0 ou 255\n",
    "    formatted_card = np.copy(image)\n",
    "    for x,column in enumerate(image):\n",
    "        for y,pixel in enumerate(column):\n",
    "            formatted_card[x,y] = 0 if np.dot(pixel,[0.2989, 0.5870, 0.1140]) < 128 else 255\n",
    "    print(formatted_card.shape)\n",
    "    return formatted_card"
   ]
  },
  {
   "cell_type": "code",
   "execution_count": 182,
   "metadata": {},
   "outputs": [],
   "source": [
    "def detection(image, background_image):\n",
    "    BORDER_COLOR = 0\n",
    "    BORDER_SIZE = 3\n",
    "    \n",
    "    card_shape = (156, 156)\n",
    "    \n",
    "    card_list = []\n",
    "    \n",
    "    filtered_background = filter_image(image)\n",
    "    \"\"\"filtered_background_image = Image.fromarray(background_image)\n",
    "    filtered_background_image.show()\"\"\"\n",
    "    \n",
    "    face_up_card = []\n",
    "\n",
    "    #on parcours le board\n",
    "    for column in range(0,image.shape[0] - card_shape[0]):\n",
    "        for row in range(0,image.shape[1] - card_shape[1]):\n",
    "            \n",
    "            #on extrait une subarray de la taille d'une carte\n",
    "            subArray = image[column:column+card_shape[0],row:row+card_shape[1]]\n",
    "            \n",
    "            #On extrait les bordures de subarray\n",
    "            borders = np.asarray([subArray[index_x][index_y] \n",
    "                                  for index_x in range(card_shape[0])\n",
    "                                  for index_y in range(card_shape[1])\n",
    "                       if min(index_x,index_y) < BORDER_SIZE or \n",
    "                          min(card_shape[0] - index_x,card_shape[1] - index_y) < BORDER_SIZE])\n",
    "            \n",
    "            #On fait la moyenne de couleur sur ce border, si c'est OK alors c'est une carte\n",
    "            avg = np.average(borders)\n",
    "            \n",
    "            if avg >= 240: #arbitrary but this is the threshold, cannot assume a dark pixel is 255 because of compression\n",
    "                #On enlève le border de subarray\n",
    "                card = subArray[BORDER_SIZE:card_shape[0]-BORDER_SIZE,\n",
    "                                BORDER_SIZE:card_shape[1]-BORDER_SIZE]\n",
    "                card_list.append(card)\n",
    "\n",
    "                #On compare subarray et l'arrière des cartes\n",
    "                filtered_card = filter_image(card)\n",
    "                #print(filtered_card)\n",
    "                #print(filtered_background)\n",
    "                average_distance = np.average(np.absolute(filtered_card - filtered_background))\n",
    "                \n",
    "                #si c'est pas un arrière de carte on met dans un tableau\n",
    "                if average_distance < 10:\n",
    "                    face_up_card.append(card)\n",
    "                \n",
    "                \n",
    "    #Renvoyer le tableau avec toutes les cartes face up\n",
    "    return card_list"
   ]
  },
  {
   "cell_type": "code",
   "execution_count": 183,
   "metadata": {},
   "outputs": [
    {
     "name": "stdout",
     "output_type": "stream",
     "text": [
      "(508, 508, 3)\n"
     ]
    },
    {
     "ename": "KeyboardInterrupt",
     "evalue": "",
     "output_type": "error",
     "traceback": [
      "\u001b[1;31m---------------------------------------------------------------------------\u001b[0m",
      "\u001b[1;31mKeyboardInterrupt\u001b[0m                         Traceback (most recent call last)",
      "\u001b[1;32m~\\AppData\\Local\\Temp/ipykernel_16452/4112471443.py\u001b[0m in \u001b[0;36m<module>\u001b[1;34m\u001b[0m\n\u001b[0;32m      5\u001b[0m \u001b[0marrayBackground\u001b[0m \u001b[1;33m=\u001b[0m \u001b[0masarray\u001b[0m\u001b[1;33m(\u001b[0m\u001b[0mbackground\u001b[0m\u001b[1;33m)\u001b[0m\u001b[1;33m\u001b[0m\u001b[1;33m\u001b[0m\u001b[0m\n\u001b[0;32m      6\u001b[0m \u001b[1;33m\u001b[0m\u001b[0m\n\u001b[1;32m----> 7\u001b[1;33m \u001b[0mcard_list\u001b[0m \u001b[1;33m=\u001b[0m \u001b[0mdetection\u001b[0m\u001b[1;33m(\u001b[0m\u001b[0marrayImage\u001b[0m\u001b[1;33m,\u001b[0m \u001b[0marrayBackground\u001b[0m\u001b[1;33m)\u001b[0m\u001b[1;33m\u001b[0m\u001b[1;33m\u001b[0m\u001b[0m\n\u001b[0m",
      "\u001b[1;32m~\\AppData\\Local\\Temp/ipykernel_16452/1616219875.py\u001b[0m in \u001b[0;36mdetection\u001b[1;34m(image, background_image)\u001b[0m\n\u001b[0;32m     21\u001b[0m \u001b[1;33m\u001b[0m\u001b[0m\n\u001b[0;32m     22\u001b[0m             \u001b[1;31m#On extrait les bordures de subarray\u001b[0m\u001b[1;33m\u001b[0m\u001b[1;33m\u001b[0m\u001b[0m\n\u001b[1;32m---> 23\u001b[1;33m             borders = np.asarray([subArray[index_x][index_y] \n\u001b[0m\u001b[0;32m     24\u001b[0m                                   \u001b[1;32mfor\u001b[0m \u001b[0mindex_x\u001b[0m \u001b[1;32min\u001b[0m \u001b[0mrange\u001b[0m\u001b[1;33m(\u001b[0m\u001b[0mcard_shape\u001b[0m\u001b[1;33m[\u001b[0m\u001b[1;36m0\u001b[0m\u001b[1;33m]\u001b[0m\u001b[1;33m)\u001b[0m\u001b[1;33m\u001b[0m\u001b[1;33m\u001b[0m\u001b[0m\n\u001b[0;32m     25\u001b[0m                                   \u001b[1;32mfor\u001b[0m \u001b[0mindex_y\u001b[0m \u001b[1;32min\u001b[0m \u001b[0mrange\u001b[0m\u001b[1;33m(\u001b[0m\u001b[0mcard_shape\u001b[0m\u001b[1;33m[\u001b[0m\u001b[1;36m1\u001b[0m\u001b[1;33m]\u001b[0m\u001b[1;33m)\u001b[0m\u001b[1;33m\u001b[0m\u001b[1;33m\u001b[0m\u001b[0m\n",
      "\u001b[1;32m~\\anaconda3\\lib\\site-packages\\numpy\\core\\_asarray.py\u001b[0m in \u001b[0;36masarray\u001b[1;34m(a, dtype, order, like)\u001b[0m\n\u001b[0;32m    100\u001b[0m         \u001b[1;32mreturn\u001b[0m \u001b[0m_asarray_with_like\u001b[0m\u001b[1;33m(\u001b[0m\u001b[0ma\u001b[0m\u001b[1;33m,\u001b[0m \u001b[0mdtype\u001b[0m\u001b[1;33m=\u001b[0m\u001b[0mdtype\u001b[0m\u001b[1;33m,\u001b[0m \u001b[0morder\u001b[0m\u001b[1;33m=\u001b[0m\u001b[0morder\u001b[0m\u001b[1;33m,\u001b[0m \u001b[0mlike\u001b[0m\u001b[1;33m=\u001b[0m\u001b[0mlike\u001b[0m\u001b[1;33m)\u001b[0m\u001b[1;33m\u001b[0m\u001b[1;33m\u001b[0m\u001b[0m\n\u001b[0;32m    101\u001b[0m \u001b[1;33m\u001b[0m\u001b[0m\n\u001b[1;32m--> 102\u001b[1;33m     \u001b[1;32mreturn\u001b[0m \u001b[0marray\u001b[0m\u001b[1;33m(\u001b[0m\u001b[0ma\u001b[0m\u001b[1;33m,\u001b[0m \u001b[0mdtype\u001b[0m\u001b[1;33m,\u001b[0m \u001b[0mcopy\u001b[0m\u001b[1;33m=\u001b[0m\u001b[1;32mFalse\u001b[0m\u001b[1;33m,\u001b[0m \u001b[0morder\u001b[0m\u001b[1;33m=\u001b[0m\u001b[0morder\u001b[0m\u001b[1;33m)\u001b[0m\u001b[1;33m\u001b[0m\u001b[1;33m\u001b[0m\u001b[0m\n\u001b[0m\u001b[0;32m    103\u001b[0m \u001b[1;33m\u001b[0m\u001b[0m\n\u001b[0;32m    104\u001b[0m \u001b[1;33m\u001b[0m\u001b[0m\n",
      "\u001b[1;31mKeyboardInterrupt\u001b[0m: "
     ]
    }
   ],
   "source": [
    "image = Image.open('board.jpg')\n",
    "background  = Image.open('MemoryGame\\\\model\\\\background.png')\n",
    "\n",
    "arrayImage = asarray(image)\n",
    "arrayBackground = asarray(background)\n",
    "\n",
    "card_list = detection(arrayImage, arrayBackground)"
   ]
  },
  {
   "cell_type": "code",
   "execution_count": 180,
   "metadata": {},
   "outputs": [
    {
     "data": {
      "text/plain": [
       "[]"
      ]
     },
     "execution_count": 180,
     "metadata": {},
     "output_type": "execute_result"
    }
   ],
   "source": [
    "card_list"
   ]
  },
  {
   "cell_type": "code",
   "execution_count": 285,
   "metadata": {},
   "outputs": [],
   "source": [
    "def naiveCardSegmentation(board,):\n",
    "    cards_positions = np.array([[14,14],[14,180],[14,346],\n",
    "                                [180,14],[180,180],[180,346],\n",
    "                                [346,14],[346,180],[346,346]])\n",
    "    card_shape = (150,150)\n",
    "    \n",
    "    cards = []\n",
    "    \n",
    "    board = np.array(board)\n",
    "    \n",
    "    for card in range(len(cards_positions)):\n",
    "        cards.append(board[cards_positions[card,0]:cards_positions[card,0]+card_shape[0]-1,\n",
    "                           cards_positions[card,1]:cards_positions[card,1]+card_shape[1]-1])\n",
    "    return cards"
   ]
  },
  {
   "cell_type": "code",
   "execution_count": 198,
   "metadata": {},
   "outputs": [],
   "source": [
    "image = Image.open('board.jpg')\n",
    "background  = Image.open('MemoryGame\\\\model\\\\background.png')\n",
    "\n",
    "arrayImage = asarray(image)\n",
    "arrayBackground = asarray(background)\n",
    "\n",
    "card_list = naiveCardSegmentation(arrayImage, arrayBackground)"
   ]
  },
  {
   "cell_type": "code",
   "execution_count": 255,
   "metadata": {},
   "outputs": [],
   "source": [
    "def applyThreshold(image1,threshold):\n",
    "    formatted_card = np.copy(image1)\n",
    "    for x,column in enumerate(image1):\n",
    "        for y,pixel in enumerate(column):\n",
    "            formatted_card[x,y] = 0 if pixel < threshold else 255\n",
    "    return formatted_card"
   ]
  },
  {
   "cell_type": "code",
   "execution_count": 287,
   "metadata": {},
   "outputs": [],
   "source": [
    "def imageComparison(image1, image2):\n",
    "    \n",
    "    img1 = Image.fromarray(np.array(image1))\n",
    "    grayscale_image1 = np.array(img1.convert('L'))\n",
    "    #grayscale_image1 = applyThreshold(grayscale_image1,128)\n",
    "    \n",
    "    img2 = Image.fromarray(np.array(image2))\n",
    "    grayscale_image2 = np.array(img2.convert('L'))\n",
    "    #grayscale_image2 = applyThreshold(grayscale_image2,128)\n",
    "    \n",
    "    average_distance = np.mean(np.square(np.absolute(grayscale_image1 - grayscale_image2)))\n",
    "    \n",
    "    return average_distance < 10"
   ]
  },
  {
   "cell_type": "code",
   "execution_count": 283,
   "metadata": {},
   "outputs": [],
   "source": [
    "def naiveDetection(board):\n",
    "    background = Image.open(\"background.png\")\n",
    "    arrayBackground = asarray(background)\n",
    "    \n",
    "    cards = naiveCardSegmentation(board)\n",
    "    \n",
    "    return [card for card in cards if not imageComparison(background,card)]"
   ]
  },
  {
   "cell_type": "code",
   "execution_count": 276,
   "metadata": {},
   "outputs": [
    {
     "name": "stdout",
     "output_type": "stream",
     "text": [
      "False\n",
      "False\n",
      "True\n",
      "True\n",
      "False\n",
      "True\n",
      "True\n",
      "True\n",
      "False\n"
     ]
    }
   ],
   "source": [
    "img = Image.fromarray(card_list[8])\n",
    "#img.show()\n",
    "background  = Image.open('MemoryGame\\\\model\\\\background.png')\n",
    "arrayBackground = asarray(background)\n",
    "\n",
    "imageComparison(card_list[2],card_list[7])\n",
    "\n",
    "for card in card_list:\n",
    "    print(imageComparison(card_list[2],card))"
   ]
  },
  {
   "cell_type": "code",
   "execution_count": 270,
   "metadata": {},
   "outputs": [],
   "source": [
    "card_list[2]\n",
    "image = Image.fromarray(card_list[2].astype(np.uint8))\n",
    "image.save(\"background.png\")"
   ]
  },
  {
   "cell_type": "code",
   "execution_count": 288,
   "metadata": {},
   "outputs": [],
   "source": [
    "image = Image.open('board.jpg')\n",
    "faceup = naiveDetection(image)"
   ]
  },
  {
   "cell_type": "code",
   "execution_count": 290,
   "metadata": {},
   "outputs": [],
   "source": [
    "for image in faceup:\n",
    "    img = Image.fromarray(image)\n",
    "    img.show()"
   ]
  },
  {
   "cell_type": "code",
   "execution_count": null,
   "metadata": {},
   "outputs": [],
   "source": []
  }
 ],
 "metadata": {
  "interpreter": {
   "hash": "e19ac6d826ce3206dfbf38762ee83dcb7f978492c6d00fd5dff28d88aa59e907"
  },
  "kernelspec": {
   "display_name": "Python 3 (ipykernel)",
   "language": "python",
   "name": "python3"
  },
  "language_info": {
   "codemirror_mode": {
    "name": "ipython",
    "version": 3
   },
   "file_extension": ".py",
   "mimetype": "text/x-python",
   "name": "python",
   "nbconvert_exporter": "python",
   "pygments_lexer": "ipython3",
   "version": "3.9.7"
  }
 },
 "nbformat": 4,
 "nbformat_minor": 2
}
