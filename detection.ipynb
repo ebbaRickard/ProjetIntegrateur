{
 "cells": [
  {
   "cell_type": "code",
   "execution_count": 1,
   "metadata": {},
   "outputs": [],
   "source": [
    "import numpy"
   ]
  },
  {
   "cell_type": "code",
   "execution_count": null,
   "metadata": {},
   "outputs": [],
   "source": [
    "def compareCard(subArray, COLOR):\n",
    "    sum = 0\n",
    "    for column in range(subArray.shape()[0]):\n",
    "        for row in range(subArray.shape()[1]):\n",
    "            if subArray[column,row] == COLOR:\n",
    "                sum +=1\n",
    "    result = sum/ ( subArray.shape()[0]*subArray.shape()[1] )\n",
    "    return result"
   ]
  },
  {
   "cell_type": "code",
   "execution_count": null,
   "metadata": {},
   "outputs": [],
   "source": [
    "def detection(image, background_color, backside_color):\n",
    "\n",
    "    BACKGROUND_COLOR = background_color\n",
    "    BACKSIDE_COLOR = backside_color\n",
    "\n",
    "    card_shape = (32,32)\n",
    "    \n",
    "    card_list = []\n",
    "\n",
    "    for column in range(image.shape()[0] - card_shape[0]):\n",
    "        for row in range(image.shape()[1] - card_shape[1]):\n",
    "            subArray = image[column:column+card_shape[0], row:row+card_shape[1]]\n",
    "            if compareCard(subArray,BACKGROUND_COLOR) == 0:\n",
    "                card_list.append(subArray)\n",
    "    \n",
    "    for card in card_list:\n",
    "        if compareCard(card,BACKSIDE_COLOR) == 0:\n",
    "            return card"
   ]
  }
 ],
 "metadata": {
  "interpreter": {
   "hash": "e19ac6d826ce3206dfbf38762ee83dcb7f978492c6d00fd5dff28d88aa59e907"
  },
  "kernelspec": {
   "display_name": "Python 3.8.5 64-bit ('base': conda)",
   "language": "python",
   "name": "python3"
  },
  "language_info": {
   "codemirror_mode": {
    "name": "ipython",
    "version": 3
   },
   "file_extension": ".py",
   "mimetype": "text/x-python",
   "name": "python",
   "nbconvert_exporter": "python",
   "pygments_lexer": "ipython3",
   "version": "3.9.7"
  },
  "orig_nbformat": 4
 },
 "nbformat": 4,
 "nbformat_minor": 2
}
