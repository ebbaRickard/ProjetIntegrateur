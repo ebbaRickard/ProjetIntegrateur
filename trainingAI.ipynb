{
 "cells": [
  {
   "cell_type": "code",
   "execution_count": 1,
   "id": "9482cf3a",
   "metadata": {},
   "outputs": [],
   "source": [
    "# IMAGE RECOGNITION\n",
    "\n",
    "# Tensorflow and numpy to create the neural network\n",
    "import tensorflow as tf\n",
    "import numpy as np\n",
    "\n",
    "# Matplotlib to plot info to show our results\n",
    "import matplotlib.pyplot as plt\n",
    "\n",
    "# OS to load files and save checkpoints\n",
    "import os\n",
    "\n",
    "from sklearn.neural_network import MLPClassifier\n",
    "from sklearn import preprocessing\n",
    "\n",
    "import random\n"
   ]
  },
  {
   "cell_type": "code",
   "execution_count": 2,
   "id": "39947396",
   "metadata": {},
   "outputs": [],
   "source": [
    "def unpickle(file):\n",
    "    import pickle\n",
    "    with open(file, 'rb') as fo:\n",
    "        dict = pickle.load(fo, encoding='latin1')\n",
    "    return dict\n",
    "\n",
    "\n",
    "def process_data(data):\n",
    "    float_data = np.array(data, dtype=float) / 255.0\n",
    "\n",
    "    reshaped_data = np.reshape(float_data, (-1, color_channels, image_height, image_width))\n",
    "\n",
    "    # The incorrect image\n",
    "\n",
    "    transposed_data = np.transpose(reshaped_data, [0, 2, 3, 1])\n",
    "\n",
    "    return transposed_data"
   ]
  },
  {
   "cell_type": "code",
   "execution_count": 31,
   "id": "c468e213",
   "metadata": {},
   "outputs": [
    {
     "name": "stdout",
     "output_type": "stream",
     "text": [
      "Categories :\n",
      "['airplane', 'automobile', 'bird', 'cat', 'deer', 'dog', 'frog', 'horse', 'ship', 'truck']\n",
      "shape before reshape : (50000, 32, 32, 3)\n",
      "This is a(n) truck:\n"
     ]
    },
    {
     "data": {
      "image/png": "[encoded data removed]",
      "text/plain": [
       "<Figure size 432x288 with 1 Axes>"
      ]
     },
     "metadata": {
      "needs_background": "light"
     },
     "output_type": "display_data"
    }
   ],
   "source": [
    "# LOADING THE DATA:\n",
    "\n",
    "image_height = 32\n",
    "image_width = 32\n",
    "color_channels = 3\n",
    "\n",
    "train_data = np.array([])\n",
    "train_labels = np.array([])\n",
    "\n",
    "# Load all the data batches.\n",
    "for i in range(5):\n",
    "    data_batch = unpickle( 'data_set/data_batch_' + str(i + 1))\n",
    "    #for field in data_batch: print(field) \n",
    "\n",
    "    train_data = np.append(train_data, data_batch['data'])\n",
    "    train_labels = np.append(train_labels, data_batch['labels'])\n",
    "\n",
    "# Load the eval batch.\n",
    "test_batch = unpickle( 'data_set/test_batch')\n",
    "test_data = test_batch['data']\n",
    "test_labels = test_batch['labels']\n",
    "\n",
    "# Load the english category names.\n",
    "category_names_bytes = unpickle('data_set/batches.meta')['label_names']\n",
    "print(\"Categories :\")\n",
    "print(category_names_bytes)\n",
    "\n",
    "# Process data\n",
    "train_data = process_data(train_data)\n",
    "test_data = process_data(test_data)\n",
    "\n",
    "\n",
    "print(f'shape before reshape : {np.shape(train_data)}')\n",
    "\n",
    "# Print a random image with it's label\n",
    "index_image = random.randint(0,np.shape(test_data)[0])\n",
    "image = train_data[index_image]\n",
    "#print(image.dtype)\n",
    "#print(image.shape)\n",
    "print(f'This is a(n) {category_names_bytes[int(train_labels[index_image])]}:')\n",
    "plt.imshow(image)\n",
    "plt.show()"
   ]
  },
  {
   "cell_type": "code",
   "execution_count": 4,
   "id": "9de537e6",
   "metadata": {},
   "outputs": [],
   "source": [
    "# Training and testing our model\n",
    "#clf = MLPClassifier(random_state=1,learning_rate_init=0.01,learning_rate = 'adaptive',activation='relu' , max_iter=100,verbose=True,hidden_layer_sizes=(50,100,50),solver = 'adam').fit(X_train_scaled[:10000],train_labels[:10000])\n",
    "#print(test_labels)\n",
    "#print(clf.predict_proba(X_test_scaled))\n",
    "#print(clf.predict(X_test_scaled))\n",
    "#print(clf.score(X_test_scaled, test_labels))"
   ]
  },
  {
   "cell_type": "code",
   "execution_count": 17,
   "id": "4e2f0401",
   "metadata": {},
   "outputs": [],
   "source": [
    "import sys\n",
    "from matplotlib import pyplot\n",
    "from tensorflow import keras\n",
    "from tensorflow.keras.utils import to_categorical\n",
    "from keras.models import Sequential\n",
    "from keras.layers import Conv2D\n",
    "from keras.layers import MaxPooling2D\n",
    "from keras.layers import Dense\n",
    "from keras.layers import Flatten\n",
    "from tensorflow.keras.optimizers import SGD\n",
    "from keras.preprocessing.image import ImageDataGenerator\n",
    "from keras.layers import Dropout\n",
    "from keras.layers import BatchNormalization\n",
    "\n",
    " \n",
    "# define cnn model\n",
    "def define_model():\n",
    "    model = Sequential()\n",
    "    model.add(Conv2D(32, (3, 3), activation='relu', kernel_initializer='he_uniform', padding='same', input_shape=(32, 32, 3)))\n",
    "    model.add(BatchNormalization())\n",
    "    model.add(Conv2D(32, (3, 3), activation='relu', kernel_initializer='he_uniform', padding='same'))\n",
    "    model.add(BatchNormalization())\n",
    "    model.add(MaxPooling2D((2, 2)))\n",
    "    model.add(Dropout(0.2))\n",
    "    model.add(Conv2D(64, (3, 3), activation='relu', kernel_initializer='he_uniform', padding='same'))\n",
    "    model.add(BatchNormalization())\n",
    "    model.add(Conv2D(64, (3, 3), activation='relu', kernel_initializer='he_uniform', padding='same'))\n",
    "    model.add(BatchNormalization())\n",
    "    model.add(MaxPooling2D((2, 2)))\n",
    "    model.add(Dropout(0.3))\n",
    "    model.add(Dropout(0.3))\n",
    "    model.add(Conv2D(128, (3, 3), activation='relu', kernel_initializer='he_uniform', padding='same'))\n",
    "    model.add(BatchNormalization())\n",
    "    model.add(Conv2D(128, (3, 3), activation='relu', kernel_initializer='he_uniform', padding='same'))\n",
    "    model.add(BatchNormalization())\n",
    "    model.add(MaxPooling2D((2, 2)))\n",
    "    model.add(Dropout(0.4))\n",
    "    model.add(Flatten())\n",
    "    model.add(Dense(128, activation='relu', kernel_initializer='he_uniform'))\n",
    "    model.add(BatchNormalization())\n",
    "    model.add(Dropout(0.5))\n",
    "    model.add(Dense(10, activation='softmax'))\n",
    "    # compile model\n",
    "    opt = SGD(lr=0.001, momentum=0.9)\n",
    "    model.compile(optimizer=opt, loss='categorical_crossentropy', metrics=['accuracy'])\n",
    "    return model\n",
    " \n",
    "# plot diagnostic learning curves\n",
    "def summarize_diagnostics(history):\n",
    "    # plot loss\n",
    "    pyplot.subplot(211)\n",
    "    pyplot.title('Cross Entropy Loss')\n",
    "    pyplot.plot(history.history['loss'], color='blue', label='train')\n",
    "    pyplot.plot(history.history['val_loss'], color='orange', label='test')\n",
    "    # plot accuracy\n",
    "    pyplot.subplot(212)\n",
    "    pyplot.title('Classification Accuracy')\n",
    "    pyplot.plot(history.history['accuracy'], color='blue', label='train')\n",
    "    pyplot.plot(history.history['val_accuracy'], color='orange', label='test')\n",
    "    # save plot to file\n",
    "    filename = sys.argv[0].split('/')[-1]\n",
    "    pyplot.savefig(filename + '_plot.png')\n",
    "    pyplot.close()\n",
    " \n",
    "# run the test harness for evaluating a model\n",
    "def run_test_harness(trainX, trainY,testX,testY):\n",
    "    # define model\n",
    "    model = define_model()\n",
    "    # create data generator\n",
    "    datagen = ImageDataGenerator(width_shift_range=0.1, height_shift_range=0.1, horizontal_flip=True)\n",
    "    # prepare iterator\n",
    "    it_train = datagen.flow(trainX, trainY, batch_size=64)\n",
    "    # fit model\n",
    "    steps = int(trainX.shape[0] / 64)\n",
    "    history = model.fit_generator(it_train, steps_per_epoch=steps, epochs=20, validation_data=(testX, testY), verbose=True)\n",
    "    # evaluate model\n",
    "    _, acc = model.evaluate(testX, testY, verbose=0)\n",
    "    print('> %.3f' % (acc * 100.0))\n",
    "    #learning curves\n",
    "    summarize_diagnostics(history)\n",
    "    return model\n"
   ]
  },
  {
   "cell_type": "code",
   "execution_count": 18,
   "id": "762b6716",
   "metadata": {},
   "outputs": [
    {
     "name": "stderr",
     "output_type": "stream",
     "text": [
      "C:\\Users\\ALEXAN~1\\AppData\\Local\\Temp/ipykernel_9520/1339552798.py:75: UserWarning: `Model.fit_generator` is deprecated and will be removed in a future version. Please use `Model.fit`, which supports generators.\n",
      "  history = model.fit_generator(it_train, steps_per_epoch=steps, epochs=20, validation_data=(testX, testY), verbose=True)\n"
     ]
    },
    {
     "name": "stdout",
     "output_type": "stream",
     "text": [
      "Epoch 1/20\n",
      "781/781 [==============================] - 224s 285ms/step - loss: 2.1716 - accuracy: 0.2813 - val_loss: 2.0098 - val_accuracy: 0.2942\n",
      "Epoch 2/20\n",
      "781/781 [==============================] - 223s 286ms/step - loss: 1.6694 - accuracy: 0.3820 - val_loss: 1.7781 - val_accuracy: 0.3696\n",
      "Epoch 3/20\n",
      "781/781 [==============================] - 226s 289ms/step - loss: 1.5423 - accuracy: 0.4332 - val_loss: 1.7705 - val_accuracy: 0.3761\n",
      "Epoch 4/20\n",
      "781/781 [==============================] - 223s 286ms/step - loss: 1.4671 - accuracy: 0.4620 - val_loss: 1.6071 - val_accuracy: 0.4238\n",
      "Epoch 5/20\n",
      "781/781 [==============================] - 220s 282ms/step - loss: 1.4091 - accuracy: 0.4833 - val_loss: 1.6661 - val_accuracy: 0.4219\n",
      "Epoch 6/20\n",
      "781/781 [==============================] - 220s 282ms/step - loss: 1.3554 - accuracy: 0.5073 - val_loss: 1.5840 - val_accuracy: 0.4430\n",
      "Epoch 7/20\n",
      "781/781 [==============================] - 221s 283ms/step - loss: 1.3026 - accuracy: 0.5277 - val_loss: 1.6279 - val_accuracy: 0.4461\n",
      "Epoch 8/20\n",
      "781/781 [==============================] - 221s 283ms/step - loss: 1.2668 - accuracy: 0.5427 - val_loss: 1.4286 - val_accuracy: 0.4999\n",
      "Epoch 9/20\n",
      "781/781 [==============================] - 220s 282ms/step - loss: 1.2346 - accuracy: 0.5557 - val_loss: 1.4428 - val_accuracy: 0.4871\n",
      "Epoch 10/20\n",
      "781/781 [==============================] - 220s 282ms/step - loss: 1.2063 - accuracy: 0.5657 - val_loss: 1.4758 - val_accuracy: 0.4881\n",
      "Epoch 11/20\n",
      "781/781 [==============================] - 362s 464ms/step - loss: 1.1831 - accuracy: 0.5760 - val_loss: 1.3049 - val_accuracy: 0.5378\n",
      "Epoch 12/20\n",
      "781/781 [==============================] - 212s 271ms/step - loss: 1.1545 - accuracy: 0.5851 - val_loss: 1.1526 - val_accuracy: 0.5836\n",
      "Epoch 13/20\n",
      "781/781 [==============================] - 211s 270ms/step - loss: 1.1367 - accuracy: 0.5954 - val_loss: 1.2383 - val_accuracy: 0.5581\n",
      "Epoch 14/20\n",
      "781/781 [==============================] - 214s 274ms/step - loss: 1.1137 - accuracy: 0.6018 - val_loss: 1.0927 - val_accuracy: 0.6134\n",
      "Epoch 15/20\n",
      "781/781 [==============================] - 215s 275ms/step - loss: 1.0988 - accuracy: 0.6071 - val_loss: 1.1185 - val_accuracy: 0.6025\n",
      "Epoch 16/20\n",
      "781/781 [==============================] - 215s 275ms/step - loss: 1.0775 - accuracy: 0.6175 - val_loss: 1.1391 - val_accuracy: 0.6032\n",
      "Epoch 17/20\n",
      "781/781 [==============================] - 215s 275ms/step - loss: 1.0635 - accuracy: 0.6198 - val_loss: 1.1048 - val_accuracy: 0.6080\n",
      "Epoch 18/20\n",
      "781/781 [==============================] - 215s 275ms/step - loss: 1.0466 - accuracy: 0.6271 - val_loss: 1.1071 - val_accuracy: 0.6135\n",
      "Epoch 19/20\n",
      "781/781 [==============================] - 218s 279ms/step - loss: 1.0294 - accuracy: 0.6333 - val_loss: 1.2809 - val_accuracy: 0.5625\n",
      "Epoch 20/20\n",
      "781/781 [==============================] - 229s 293ms/step - loss: 1.0194 - accuracy: 0.6407 - val_loss: 1.1207 - val_accuracy: 0.6122\n",
      "> 61.220\n"
     ]
    }
   ],
   "source": [
    "model_trained = run_test_harness(train_data,to_categorical(train_labels),test_data, to_categorical(test_labels))"
   ]
  },
  {
   "cell_type": "code",
   "execution_count": 20,
   "id": "347cf4b9",
   "metadata": {},
   "outputs": [
    {
     "name": "stdout",
     "output_type": "stream",
     "text": [
      "INFO:tensorflow:Assets written to: model_trained\\assets\n"
     ]
    }
   ],
   "source": [
    "model_trained.save('model_trained')"
   ]
  },
  {
   "cell_type": "code",
   "execution_count": 21,
   "id": "1a4dce50",
   "metadata": {},
   "outputs": [],
   "source": [
    "model = keras.models.load_model('model_trained')"
   ]
  },
  {
   "cell_type": "code",
   "execution_count": 30,
   "id": "a83a60cf",
   "metadata": {},
   "outputs": [
    {
     "name": "stdout",
     "output_type": "stream",
     "text": [
      "[6 1 6 6 1]\n",
      "[6, 1, 6, 3, 1]\n"
     ]
    }
   ],
   "source": [
    "prediction = model.predict(test_data[5:10])\n",
    "print(np.argmax(prediction, axis = 1))\n",
    "print(test_labels[5:10])"
   ]
  },
  {
   "cell_type": "code",
   "execution_count": null,
   "id": "0be6069a",
   "metadata": {},
   "outputs": [],
   "source": []
  }
 ],
 "metadata": {
  "kernelspec": {
   "display_name": "Python 3 (ipykernel)",
   "language": "python",
   "name": "python3"
  },
  "language_info": {
   "codemirror_mode": {
    "name": "ipython",
    "version": 3
   },
   "file_extension": ".py",
   "mimetype": "text/x-python",
   "name": "python",
   "nbconvert_exporter": "python",
   "pygments_lexer": "ipython3",
   "version": "3.9.7"
  }
 },
 "nbformat": 4,
 "nbformat_minor": 5
}
