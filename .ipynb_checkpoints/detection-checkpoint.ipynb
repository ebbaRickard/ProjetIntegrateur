{
 "cells": [
  {
   "cell_type": "code",
   "execution_count": 162,
   "metadata": {},
   "outputs": [],
   "source": [
    "import numpy as np\n",
    "from numpy import asarray\n",
    "from PIL import Image"
   ]
  },
  {
   "cell_type": "code",
   "execution_count": 5,
   "metadata": {},
   "outputs": [],
   "source": [
    "def compareCard_deprecated(subArray, COLOR):\n",
    "    sum = 0\n",
    "    for column in range(subArray.shape()[0]):\n",
    "        for row in range(subArray.shape()[1]):\n",
    "            if subArray[column,row] == COLOR:\n",
    "                sum +=1\n",
    "    result = sum/ ( subArray.shape()[0]*subArray.shape()[1] )\n",
    "    return result"
   ]
  },
  {
   "cell_type": "code",
   "execution_count": 6,
   "metadata": {},
   "outputs": [],
   "source": [
    "def detection_deprecated(image, background_color, backside_color):\n",
    "\n",
    "    BACKGROUND_COLOR = [253,1,255]\n",
    "    BACKSIDE_COLOR = backside_color\n",
    "\n",
    "    card_shape = (32,32)\n",
    "    \n",
    "    card_list = []\n",
    "\n",
    "    for column in range(image.shape()[0] - card_shape[0]):\n",
    "        for row in range(image.shape()[1] - card_shape[1]):\n",
    "            subArray = image[column:column+card_shape[0], row:row+card_shape[1]]\n",
    "            if compareCard(subArray,BACKGROUND_COLOR) == 0:\n",
    "                card_list.append(subArray)\n",
    "    \n",
    "    for card in card_list:\n",
    "        if compareCard(card,BACKSIDE_COLOR) == 0:\n",
    "            return card"
   ]
  },
  {
   "cell_type": "code",
   "execution_count": 7,
   "metadata": {},
   "outputs": [
    {
     "name": "stdout",
     "output_type": "stream",
     "text": [
      "JPEG\n",
      "(508, 508)\n",
      "RGB\n"
     ]
    }
   ],
   "source": [
    "image = Image.open('board.jpg')\n",
    "print(image.format)\n",
    "print(image.size)\n",
    "print(image.mode)\n",
    "\n",
    "arrayImage = asarray(image)\n",
    "\n",
    "BACKGROUND_COLOR = [253,1,255]"
   ]
  },
  {
   "cell_type": "code",
   "execution_count": 21,
   "metadata": {},
   "outputs": [
    {
     "data": {
      "text/plain": [
       "array([245,   7, 240], dtype=uint8)"
      ]
     },
     "execution_count": 21,
     "metadata": {},
     "output_type": "execute_result"
    }
   ],
   "source": [
    "arrayImage[8,3]"
   ]
  },
  {
   "cell_type": "code",
   "execution_count": 66,
   "metadata": {},
   "outputs": [
    {
     "name": "stdout",
     "output_type": "stream",
     "text": [
      "[[249.8735 249.8735 247.5776 ... 250.9919 251.6685 250.2665]\n",
      " [247.0695 251.9765 252.893  ... 254.4045 249.5655 251.7825]\n",
      " [252.306  244.8768 230.7023 ... 245.7734 251.1059 253.1057]\n",
      " ...\n",
      " [252.8822 231.0245 203.8434 ... 228.3435 252.893  247.8935]\n",
      " [252.2215 244.0159 231.7085 ... 244.0249 252.0105 250.6085]\n",
      " [250.1185 250.8195 251.1104 ... 253.024  249.9075 251.3095]]\n",
      "<class 'PIL.Image.Image'>\n",
      "<PIL.Image.Image image mode=F size=336x336 at 0x1B8E4FEA280>\n"
     ]
    },
    {
     "data": {
      "text/plain": [
       "'img.convert(\"rgb\")\\nimg.save(\\'my.jpg\\')\\nimg.show()'"
      ]
     },
     "execution_count": 66,
     "metadata": {},
     "output_type": "execute_result"
    }
   ],
   "source": [
    "image = Image.open('MemoryGame\\\\model\\\\background.png')\n",
    "\n",
    "arrayImage = asarray(image)\n",
    "\n",
    "rgb_weights = [0.2989, 0.5870, 0.1140]   #Pourquoi ces valeurs ? et pourquoi pas ? (stackoverflow), pas le temps d'analyser pourquoi\n",
    "grayscale_card = np.dot(arrayImage[...,:3], rgb_weights)\n",
    "\n",
    "print(grayscale_card)\n",
    "\n",
    "from PIL import Image\n",
    "import numpy as np\n",
    "\n",
    "w, h = 512, 512\n",
    "img = Image.fromarray(np.uint8(mat * 255), 'L')\n",
    "img = Image.fromarray(grayscale_card)\n",
    "print(type(img))\n",
    "print(img)\n",
    "\"\"\"img.convert(\"rgb\")\n",
    "img.save('my.jpg')\n",
    "img.show()\"\"\""
   ]
  },
  {
   "cell_type": "code",
   "execution_count": null,
   "metadata": {},
   "outputs": [],
   "source": [
    "def filter_image(image):\n",
    "    #on commence par convertir l'image en gris\n",
    "    #on utilise le produit d'une matrice par un vecteur pour transformer le vecteur dim(3) des 3 RGB\n",
    "    #en vecteur dim(1)\n",
    "    \n",
    "    #Pourquoi ces valeurs ? et pourquoi pas ? (stackoverflow), pas le temps d'analyser pourquoi  \n",
    "    \"\"\"image = Image.fromarray(image.astype(np.uint8))\n",
    "    grayscale_image = np.array(image.convert('L'))\n",
    "    print(img)\n",
    "    grayscale_image = asarray(img)\"\"\"\n",
    "    #rgb_weights = np.asarray([0.2989, 0.5870, 0.1140])\n",
    "    #grayscale_image = np.dot(image[...,:3], rgb_weights)\n",
    "\n",
    "    #on applique un threshold pour avoir uniquement 0 ou 255\n",
    "    formatted_card = image.copy()\n",
    "    for x,column in enumerate(image):\n",
    "        for y,pixel in enumerate(column):\n",
    "            formatted_card[x,y] = 0 if np.dot(pixel,[0.2989, 0.5870, 0.1140]) < 128 else 255\n",
    "    print(formatted_card.shape)\n",
    "    return formatted_card"
   ]
  },
  {
   "cell_type": "code",
   "execution_count": null,
   "metadata": {},
   "outputs": [],
   "source": [
    "def detection(image, background_image):\n",
    "    BORDER_COLOR = 0\n",
    "    BORDER_SIZE = 3\n",
    "    \n",
    "    card_shape = (156, 156)\n",
    "    \n",
    "    card_list = []\n",
    "    \n",
    "    filtered_background = filter_image(image)\n",
    "    \"\"\"filtered_background_image = Image.fromarray(background_image)\n",
    "    filtered_background_image.show()\"\"\"\n",
    "    \n",
    "    face_up_card = []\n",
    "\n",
    "    #on parcours le board\n",
    "    for column in range(0,image.shape[0] - card_shape[0]):\n",
    "        for row in range(0,image.shape[1] - card_shape[1]):\n",
    "            \n",
    "            #on extrait une subarray de la taille d'une carte\n",
    "            subArray = image[column:column+card_shape[0],row:row+card_shape[1]]\n",
    "            \n",
    "            #On extrait les bordures de subarray\n",
    "            borders = np.asarray([subArray[index_x][index_y] \n",
    "                                  for index_x in range(card_shape[0])\n",
    "                                  for index_y in range(card_shape[1])\n",
    "                       if min(index_x,index_y) < BORDER_SIZE or \n",
    "                          min(card_shape[0] - index_x,card_shape[1] - index_y) < BORDER_SIZE])\n",
    "            \n",
    "            #On fait la moyenne de couleur sur ce border, si c'est OK alors c'est une carte\n",
    "            avg = np.average(borders)\n",
    "            \n",
    "            if avg >= 240: #arbitrary but this is the threshold, cannot assume a dark pixel is 255 because of compression\n",
    "                #On enlève le border de subarray\n",
    "                card = subArray[BORDER_SIZE:card_shape[0]-BORDER_SIZE,\n",
    "                                BORDER_SIZE:card_shape[1]-BORDER_SIZE]\n",
    "                card_list.append(card)\n",
    "\n",
    "                #On compare subarray et l'arrière des cartes\n",
    "                filtered_card = filter_image(card)\n",
    "                #print(filtered_card)\n",
    "                #print(filtered_background)\n",
    "                average_distance = np.average(np.absolute(filtered_card - filtered_background))\n",
    "                \n",
    "                #si c'est pas un arrière de carte on met dans un tableau\n",
    "                if average_distance < 10:\n",
    "                    face_up_card.append(card)\n",
    "                \n",
    "                \n",
    "    #Renvoyer le tableau avec toutes les cartes face up\n",
    "    return card_list"
   ]
  },
  {
   "cell_type": "code",
   "execution_count": null,
   "metadata": {},
   "outputs": [],
   "source": [
    "image = Image.open('board.jpg')\n",
    "background  = Image.open('MemoryGame\\\\model\\\\background.png')\n",
    "\n",
    "arrayImage = asarray(image)\n",
    "arrayBackground = asarray(background)\n",
    "\n",
    "card_list = detection(arrayImage, arrayBackground)"
   ]
  },
  {
   "cell_type": "code",
   "execution_count": null,
   "metadata": {},
   "outputs": [],
   "source": [
    "card_list"
   ]
  },
  {
   "cell_type": "code",
   "execution_count": null,
   "metadata": {},
   "outputs": [],
   "source": []
  }
 ],
 "metadata": {
  "interpreter": {
   "hash": "e19ac6d826ce3206dfbf38762ee83dcb7f978492c6d00fd5dff28d88aa59e907"
  },
  "kernelspec": {
   "display_name": "Python 3 (ipykernel)",
   "language": "python",
   "name": "python3"
  },
  "language_info": {
   "codemirror_mode": {
    "name": "ipython",
    "version": 3
   },
   "file_extension": ".py",
   "mimetype": "text/x-python",
   "name": "python",
   "nbconvert_exporter": "python",
   "pygments_lexer": "ipython3",
   "version": "3.9.7"
  }
 },
 "nbformat": 4,
 "nbformat_minor": 2
}
