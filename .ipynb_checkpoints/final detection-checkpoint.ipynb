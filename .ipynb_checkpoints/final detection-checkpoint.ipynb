{
 "cells": [
  {
   "cell_type": "code",
   "execution_count": 1,
   "id": "afecfc9f",
   "metadata": {},
   "outputs": [],
   "source": [
    "import numpy as np\n",
    "from numpy import asarray\n",
    "from PIL import Image"
   ]
  },
  {
   "cell_type": "code",
   "execution_count": 2,
   "id": "0cb3df2c",
   "metadata": {},
   "outputs": [],
   "source": [
    "def naiveCardSegmentation(board):\n",
    "    cards_positions = np.array([[14,14],[14,180],[14,346],\n",
    "                                [180,14],[180,180],[180,346],\n",
    "                                [346,14],[346,180],[346,346]])\n",
    "    card_shape = (150,150)\n",
    "    \n",
    "    cards = []\n",
    "    \n",
    "    board = np.array(board)\n",
    "    \n",
    "    for card in range(len(cards_positions)):\n",
    "        cards.append(board[cards_positions[card,0]:cards_positions[card,0]+card_shape[0]-1,\n",
    "                           cards_positions[card,1]:cards_positions[card,1]+card_shape[1]-1])\n",
    "    return cards"
   ]
  },
  {
   "cell_type": "code",
   "execution_count": null,
   "id": "9dcd9620",
   "metadata": {},
   "outputs": [],
   "source": [
    "def applyThreshold(image1,threshold):\n",
    "    formatted_card = np.copy(image1)\n",
    "    for x,column in enumerate(image1):\n",
    "        for y,pixel in enumerate(column):\n",
    "            formatted_card[x,y] = 0 if pixel < threshold else 255\n",
    "    return formatted_card"
   ]
  },
  {
   "cell_type": "code",
   "execution_count": 3,
   "id": "24de389d",
   "metadata": {},
   "outputs": [],
   "source": [
    "def imageComparison(image1, image2):\n",
    "    \n",
    "    img1 = Image.fromarray(np.array(image1))\n",
    "    grayscale_image1 = np.array(img1.convert('L'))\n",
    "    #grayscale_image1 = applyThreshold(grayscale_image1,128)\n",
    "    \n",
    "    img2 = Image.fromarray(np.array(image2))\n",
    "    grayscale_image2 = np.array(img2.convert('L'))\n",
    "    #grayscale_image2 = applyThreshold(grayscale_image2,128)\n",
    "    \n",
    "    average_distance = np.mean(np.square(np.absolute(grayscale_image1 - grayscale_image2)))\n",
    "    \n",
    "    return average_distance < 10"
   ]
  },
  {
   "cell_type": "code",
   "execution_count": 4,
   "id": "9a7e7bda",
   "metadata": {},
   "outputs": [],
   "source": [
    "def naiveDetection(board):\n",
    "    background = Image.open(\"background.png\")\n",
    "    arrayBackground = asarray(background)\n",
    "    \n",
    "    cards = naiveCardSegmentation(board)\n",
    "    \n",
    "    return [card for card in cards if not imageComparison(background,card)]"
   ]
  },
  {
   "cell_type": "code",
   "execution_count": null,
   "id": "4028887b",
   "metadata": {},
   "outputs": [],
   "source": []
  }
 ],
 "metadata": {
  "kernelspec": {
   "display_name": "Python 3 (ipykernel)",
   "language": "python",
   "name": "python3"
  },
  "language_info": {
   "codemirror_mode": {
    "name": "ipython",
    "version": 3
   },
   "file_extension": ".py",
   "mimetype": "text/x-python",
   "name": "python",
   "nbconvert_exporter": "python",
   "pygments_lexer": "ipython3",
   "version": "3.9.7"
  }
 },
 "nbformat": 4,
 "nbformat_minor": 5
}
